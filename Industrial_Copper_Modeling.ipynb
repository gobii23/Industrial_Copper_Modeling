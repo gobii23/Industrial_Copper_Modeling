{
  "nbformat": 4,
  "nbformat_minor": 0,
  "metadata": {
    "colab": {
      "provenance": []
    },
    "kernelspec": {
      "name": "python3",
      "display_name": "Python 3"
    },
    "language_info": {
      "name": "python"
    }
  },
  "cells": [
    {
      "cell_type": "code",
      "execution_count": null,
      "metadata": {
        "id": "ko8P-Z-x54q_"
      },
      "outputs": [],
      "source": [
        "import pandas as pd\n",
        "import numpy as np\n",
        "from sklearn.model_selection import train_test_split\n",
        "from sklearn.ensemble import RandomForestRegressor, RandomForestClassifier\n",
        "from sklearn.metrics import mean_squared_error, accuracy_score, classification_report\n",
        "from sklearn.preprocessing import StandardScaler, LabelEncoder\n",
        "import streamlit as st\n",
        "import pickle"
      ]
    },
    {
      "cell_type": "code",
      "source": [
        "data = pd.read_csv('/content/Copper_Set.csv')\n",
        "\n",
        "print(\"Initial dataset shape:\", data.shape)\n",
        "\n",
        "data['material_ref'] = data['material_ref'].replace('00000', np.nan)\n",
        "print(\"Shape after replacing '00000' with NaN in material_ref:\", data.shape)"
      ],
      "metadata": {
        "colab": {
          "base_uri": "https://localhost:8080/"
        },
        "id": "hRAqBm_5581Y",
        "outputId": "26d6e551-ab02-4d0b-9394-7bc8388f7344"
      },
      "execution_count": null,
      "outputs": [
        {
          "output_type": "stream",
          "name": "stdout",
          "text": [
            "Initial dataset shape: (33540, 14)\n",
            "Shape after replacing '00000' with NaN in material_ref: (33540, 14)\n"
          ]
        }
      ]
    },
    {
      "cell_type": "code",
      "source": [
        "for col in ['thickness', 'width', 'selling_price']:\n",
        "    data[col] = data[col].fillna(data[col].median())\n",
        "print(\"Shape after filling missing values for thickness, width, and selling_price:\", data.shape)\n",
        "\n",
        "for col in ['material_ref', 'status', 'item type']:\n",
        "    data[col] = data[col].fillna('-1')\n",
        "print(\"Shape after filling missing values for material_ref, status, and item type:\", data.shape)"
      ],
      "metadata": {
        "colab": {
          "base_uri": "https://localhost:8080/"
        },
        "id": "JBnB3p1b6VDT",
        "outputId": "64b58ef9-a162-43a2-9510-4b2638e0f47d"
      },
      "execution_count": null,
      "outputs": [
        {
          "output_type": "stream",
          "name": "stdout",
          "text": [
            "Shape after filling missing values for thickness, width, and selling_price: (33540, 14)\n",
            "Shape after filling missing values for material_ref, status, and item type: (33540, 14)\n"
          ]
        }
      ]
    },
    {
      "cell_type": "code",
      "source": [
        "regression_features = ['quantity tons', 'thickness', 'width', 'material_ref', 'item type']\n",
        "data[regression_features] = data[regression_features].apply(pd.to_numeric, errors='coerce')\n",
        "print(\"Shape after converting regression features to numeric:\", data.shape)\n",
        "\n",
        "print(\"Number of NaN values per column before dropping:\", data[regression_features].isna().sum())\n",
        "\n",
        "data = data.dropna(subset=regression_features)\n",
        "print(\"Shape after dropping rows with NaN in regression features:\", data.shape)"
      ],
      "metadata": {
        "colab": {
          "base_uri": "https://localhost:8080/"
        },
        "id": "48k74QVl6VA6",
        "outputId": "87d6aa7d-7b39-4748-d658-5f4ed25f4675"
      },
      "execution_count": null,
      "outputs": [
        {
          "output_type": "stream",
          "name": "stdout",
          "text": [
            "Shape after converting regression features to numeric: (33540, 14)\n",
            "Number of NaN values per column before dropping: quantity tons        0\n",
            "thickness            0\n",
            "width                0\n",
            "material_ref     14878\n",
            "item type        33539\n",
            "dtype: int64\n",
            "Shape after dropping rows with NaN in regression features: (1, 14)\n"
          ]
        }
      ]
    },
    {
      "cell_type": "code",
      "source": [
        "\n",
        "if data.empty:\n",
        "    raise ValueError(\"Dataset is empty after cleaning. Please ensure the input data contains valid entries in all required columns.\")\n",
        "\n",
        "label_encoder = LabelEncoder()\n",
        "data['status'] = label_encoder.fit_transform(data['status'])  # WON = 1, LOST = 0\n",
        "print(\"Shape after encoding status:\", data.shape)\n",
        "\n",
        "scaler = StandardScaler()\n",
        "data[regression_features] = scaler.fit_transform(data[regression_features])\n",
        "print(\"Shape after scaling numeric features:\", data.shape)\n",
        "\n",
        "X_reg = data[regression_features]\n",
        "y_reg = data['selling_price']\n",
        "X_train_reg, X_test_reg, y_train_reg, y_test_reg = train_test_split(X_reg, y_reg, test_size=0.2, random_state=42)"
      ],
      "metadata": {
        "id": "VauTgNfh6U-6"
      },
      "execution_count": null,
      "outputs": []
    },
    {
      "cell_type": "code",
      "source": [
        "regressor = RandomForestRegressor(random_state=42)\n",
        "regressor.fit(X_train_reg, y_train_reg)\n",
        "reg_preds = regressor.predict(X_test_reg)\n",
        "\n",
        "X_clf = data[classification_features]\n",
        "y_clf = data['status']\n",
        "X_train_clf, X_test_clf, y_train_clf, y_test_clf = train_test_split(X_clf, y_clf, test_size=0.2, random_state=42)\n",
        "\n",
        "classifier = RandomForestClassifier(random_state=42)\n",
        "classifier.fit(X_train_clf, y_train_clf)\n",
        "clf_preds = classifier.predict(X_test_clf)\n",
        "\n",
        "print(\"Regression RMSE:\", np.sqrt(mean_squared_error(y_test_reg, reg_preds)))\n",
        "print(\"Classification Accuracy:\", accuracy_score(y_test_clf, clf_preds))\n",
        "print(\"Classification Report:\\n\", classification_report(y_test_clf, clf_preds))"
      ],
      "metadata": {
        "id": "t3GdkrSv6U8a"
      },
      "execution_count": null,
      "outputs": []
    },
    {
      "cell_type": "code",
      "source": [
        "with open('regressor.pkl', 'wb') as f:\n",
        "    pickle.dump(regressor, f)\n",
        "with open('classifier.pkl', 'wb') as f:\n",
        "    pickle.dump(classifier, f)\n",
        "with open('scaler.pkl', 'wb') as f:\n",
        "    pickle.dump(scaler, f)\n",
        "\n",
        "st.title(\"Industrial Copper Modeling\")\n",
        "\n",
        "option = st.selectbox(\"Select Task:\", [\"Regression\", \"Classification\"])"
      ],
      "metadata": {
        "id": "Jaw3QE_c6U57"
      },
      "execution_count": null,
      "outputs": []
    },
    {
      "cell_type": "code",
      "source": [
        "\n",
        "if option == \"Regression\":\n",
        "    st.header(\"Predict Selling Price\")\n",
        "    input_data = {\n",
        "        \"quantity tons\": st.number_input(\"Quantity (Tons)\"),\n",
        "        \"thickness\": st.number_input(\"Thickness\"),\n",
        "        \"width\": st.number_input(\"Width\"),\n",
        "        \"material_ref\": st.text_input(\"Material Reference\"),\n",
        "        \"item type\": st.text_input(\"Item Type\"),\n",
        "    }\n",
        "\n",
        "    input_df = pd.DataFrame([input_data])\n",
        "    input_df[regression_features] = scaler.transform(input_df[regression_features])\n",
        "    prediction = regressor.predict(input_df)\n",
        "    st.write(\"Predicted Selling Price:\", prediction[0])"
      ],
      "metadata": {
        "id": "KHOny8la6U4O"
      },
      "execution_count": null,
      "outputs": []
    },
    {
      "cell_type": "code",
      "source": [
        "elif option == \"Classification\":\n",
        "    st.header(\"Predict Status\")\n",
        "    input_data = {\n",
        "        \"quantity tons\": st.number_input(\"Quantity (Tons)\"),\n",
        "        \"thickness\": st.number_input(\"Thickness\"),\n",
        "        \"width\": st.number_input(\"Width\"),\n",
        "        \"material_ref\": st.text_input(\"Material Reference\"),\n",
        "        \"item type\": st.text_input(\"Item Type\"),\n",
        "    }\n",
        "\n",
        "    input_df = pd.DataFrame([input_data])\n",
        "    input_df[classification_features] = scaler.transform(input_df[classification_features])\n",
        "    prediction = classifier.predict(input_df)\n",
        "    st.write(\"Predicted Status:\", \"WON\" if prediction[0] == 1 else \"LOST\")"
      ],
      "metadata": {
        "id": "KrTduC_i6U1X"
      },
      "execution_count": null,
      "outputs": []
    },
    {
      "cell_type": "code",
      "source": [],
      "metadata": {
        "id": "q2YV5OpN6UsQ"
      },
      "execution_count": null,
      "outputs": []
    },
    {
      "cell_type": "code",
      "source": [],
      "metadata": {
        "id": "f6z7UVoU6Uex"
      },
      "execution_count": null,
      "outputs": []
    }
  ]
}